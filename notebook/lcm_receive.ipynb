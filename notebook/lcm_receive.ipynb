{
 "metadata": {
  "name": ""
 },
 "nbformat": 3,
 "nbformat_minor": 0,
 "worksheets": [
  {
   "cells": [
    {
     "cell_type": "code",
     "collapsed": false,
     "input": [
      "import lcm\n",
      "import forseti2"
     ],
     "language": "python",
     "metadata": {},
     "outputs": [],
     "prompt_number": 6
    },
    {
     "cell_type": "code",
     "collapsed": false,
     "input": [
      "lc = lcm.LCM(\"udpm://239.255.76.67:7667?ttl=1\")"
     ],
     "language": "python",
     "metadata": {},
     "outputs": [],
     "prompt_number": 2
    },
    {
     "cell_type": "code",
     "collapsed": false,
     "input": [
      "def health_handler(channel, data):\n",
      "    msg = forseti2.health.decode(data)\n",
      "    print(\"Received message on channel \\\"%s\\\"\" % channel)\n",
      "    print(\"   uptime   = %s\" % str(msg.uptime))"
     ],
     "language": "python",
     "metadata": {},
     "outputs": [],
     "prompt_number": 3
    },
    {
     "cell_type": "code",
     "collapsed": false,
     "input": [
      "sub = lc.subscribe(\"sprocket/health\", health_handler)"
     ],
     "language": "python",
     "metadata": {},
     "outputs": [],
     "prompt_number": 4
    },
    {
     "cell_type": "code",
     "collapsed": false,
     "input": [
      "try:\n",
      "    while True:\n",
      "        lc.handle()\n",
      "except KeyboardInterrupt:\n",
      "    pass"
     ],
     "language": "python",
     "metadata": {},
     "outputs": [
      {
       "output_type": "stream",
       "stream": "stdout",
       "text": [
        "Received message on channel \"sprocket/health\"\n",
        "   uptime   = 5.0\n",
        "Received message on channel \"sprocket/health\""
       ]
      },
      {
       "output_type": "stream",
       "stream": "stdout",
       "text": [
        "\n",
        "   uptime   = 6.0\n",
        "Received message on channel \"sprocket/health\""
       ]
      },
      {
       "output_type": "stream",
       "stream": "stdout",
       "text": [
        "\n",
        "   uptime   = 7.0\n",
        "Received message on channel \"sprocket/health\""
       ]
      },
      {
       "output_type": "stream",
       "stream": "stdout",
       "text": [
        "\n",
        "   uptime   = 8.0\n",
        "Received message on channel \"sprocket/health\""
       ]
      },
      {
       "output_type": "stream",
       "stream": "stdout",
       "text": [
        "\n",
        "   uptime   = 9.0\n",
        "Received message on channel \"sprocket/health\""
       ]
      },
      {
       "output_type": "stream",
       "stream": "stdout",
       "text": [
        "\n",
        "   uptime   = 10.0\n",
        "Received message on channel \"sprocket/health\""
       ]
      },
      {
       "output_type": "stream",
       "stream": "stdout",
       "text": [
        "\n",
        "   uptime   = 11.0\n",
        "Received message on channel \"sprocket/health\""
       ]
      },
      {
       "output_type": "stream",
       "stream": "stdout",
       "text": [
        "\n",
        "   uptime   = 12.0\n",
        "Received message on channel \"sprocket/health\""
       ]
      },
      {
       "output_type": "stream",
       "stream": "stdout",
       "text": [
        "\n",
        "   uptime   = 13.0\n",
        "Received message on channel \"sprocket/health\""
       ]
      },
      {
       "output_type": "stream",
       "stream": "stdout",
       "text": [
        "\n",
        "   uptime   = 14.0\n",
        "Received message on channel \"sprocket/health\""
       ]
      },
      {
       "output_type": "stream",
       "stream": "stdout",
       "text": [
        "\n",
        "   uptime   = 15.0\n",
        "Received message on channel \"sprocket/health\""
       ]
      },
      {
       "output_type": "stream",
       "stream": "stdout",
       "text": [
        "\n",
        "   uptime   = 16.0\n",
        "Received message on channel \"sprocket/health\""
       ]
      },
      {
       "output_type": "stream",
       "stream": "stdout",
       "text": [
        "\n",
        "   uptime   = 17.0\n",
        "Received message on channel \"sprocket/health\""
       ]
      },
      {
       "output_type": "stream",
       "stream": "stdout",
       "text": [
        "\n",
        "   uptime   = 18.0\n",
        "Received message on channel \"sprocket/health\""
       ]
      },
      {
       "output_type": "stream",
       "stream": "stdout",
       "text": [
        "\n",
        "   uptime   = 19.0\n"
       ]
      }
     ],
     "prompt_number": 5
    },
    {
     "cell_type": "code",
     "collapsed": false,
     "input": [],
     "language": "python",
     "metadata": {},
     "outputs": []
    }
   ],
   "metadata": {}
  }
 ]
}